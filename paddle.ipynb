{
 "cells": [
  {
   "cell_type": "code",
   "execution_count": null,
   "id": "0959a378",
   "metadata": {},
   "outputs": [],
   "source": [
    "import pytesseract\n",
    "from PIL import Image\n",
    "import re\n",
    "\n",
    "# Load and OCR\n",
    "image_path = \"path_to_your_image\"\n",
    "image = Image.open(image_path)\n",
    "text = pytesseract.image_to_string(image)\n",
    "\n",
    "# Regex to extract all test entries\n",
    "pattern = r\"(?P<name>[A-Za-z \\-\\(\\)]+)\\s*:\\s*(?P<value>\\d+\\.?\\d*)\\s*(?:\\[.*?\\])?\\s*(?P<unit>mg/L)?\\s*(?P<range>\\d+\\-?\\d*\\.?\\d*\\s*mg/L)?\"\n",
    "matches = re.finditer(pattern, text)\n",
    "\n",
    "# Collect all extracted entries\n",
    "all_tests = []\n",
    "for match in matches:\n",
    "    test = {\n",
    "        \"Test Name\": match.group(\"name\").strip(),\n",
    "        \"Value\": match.group(\"value\"),\n",
    "        \"Unit\": match.group(\"unit\") if match.group(\"unit\") else \"\",\n",
    "        \"Reference Range\": match.group(\"range\") if match.group(\"range\") else \"\"\n",
    "    }\n",
    "    all_tests.append(test)\n",
    "\n",
    "# Output all results\n",
    "for test in all_tests:\n",
    "    print(test)\n"
   ]
  }
 ],
 "metadata": {
  "kernelspec": {
   "display_name": "dharun_raagav_official",
   "language": "python",
   "name": "python3"
  },
  "language_info": {
   "codemirror_mode": {
    "name": "ipython",
    "version": 3
   },
   "file_extension": ".py",
   "mimetype": "text/x-python",
   "name": "python",
   "nbconvert_exporter": "python",
   "pygments_lexer": "ipython3",
   "version": "3.11.1"
  }
 },
 "nbformat": 4,
 "nbformat_minor": 5
}
